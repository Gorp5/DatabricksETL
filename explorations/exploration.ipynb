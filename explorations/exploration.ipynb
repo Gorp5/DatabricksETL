{
 "cells": [
  {
   "cell_type": "code",
   "execution_count": 0,
   "metadata": {
    "application/vnd.databricks.v1+cell": {
     "cellMetadata": {
      "byteLimit": 2048000,
      "rowLimit": 10000
     },
     "inputWidgets": {},
     "nuid": "99115acf-672f-4b71-8906-020c49282370",
     "showTitle": false,
     "tableResultSettingsMap": {},
     "title": ""
    }
   },
   "outputs": [],
   "source": [
    "import matplotlib.pyplot as plt\n",
    "import pandas as pd\n",
    "\n",
    "# Assuming df is your Spark DataFrame with columns: 'gender', 'age', 'time_spent', 'clicked'\n",
    "\n",
    "df = spark.table(\"silver_data\")\n",
    "\n",
    "# Convert to Pandas for plotting\n",
    "pdf = df.select('gender', 'age', 'Daily_Time_Spent_on_Site', 'Clicked_on_Ad', 'Daily_Internet_Usage', 'Area_Income').toPandas()\n",
    "\n",
    "fig, axes = plt.subplots(1, 5, figsize=(18, 5))\n",
    "\n",
    "# Gender vs Clicked (% clicked)\n",
    "gender_pct = pdf.groupby('gender')['Clicked_on_Ad'].mean() * 100\n",
    "gender_pct.plot(kind='bar', ax=axes[0])\n",
    "axes[0].set_title('Click Rate by Gender')\n",
    "axes[0].set_ylabel('% Clicked')\n",
    "\n",
    "# Age vs Clicked (% clicked by age bin)\n",
    "pdf['age_bin'] = pd.cut(pdf['age'], bins=20)\n",
    "age_pct = pdf.groupby('age_bin')['Clicked_on_Ad'].mean() * 100\n",
    "age_pct.plot(kind='bar', ax=axes[1])\n",
    "axes[1].set_title('Click Rate by Age Bin')\n",
    "axes[1].set_ylabel('% Clicked')\n",
    "axes[1].tick_params(axis='x', rotation=45)\n",
    "\n",
    "# Time Spent vs Clicked (% clicked by time bin)\n",
    "pdf['time_spent_bin'] = pd.cut(pdf['Daily_Time_Spent_on_Site'], bins=20)\n",
    "time_spent_pct = pdf.groupby('time_spent_bin')['Clicked_on_Ad'].mean() * 100\n",
    "time_spent_pct.plot(kind='bar', ax=axes[2])\n",
    "axes[2].set_title('Click Rate by Time Spent Bin')\n",
    "axes[2].set_ylabel('% Clicked')\n",
    "axes[2].tick_params(axis='x', rotation=45)\n",
    "\n",
    "# Age vs Clicked (% clicked by age bin)\n",
    "pdf['internet_bin'] = pd.cut(pdf['Daily_Internet_Usage'], bins=20)\n",
    "internet_pct = pdf.groupby('internet_bin')['Clicked_on_Ad'].mean() * 100\n",
    "internet_pct.plot(kind='bar', ax=axes[3])\n",
    "axes[3].set_title('Click Rate by Daily Internet Usage')\n",
    "axes[3].set_ylabel('% Clicked')\n",
    "axes[3].tick_params(axis='x', rotation=45)\n",
    "\n",
    "# Time Spent vs Clicked (% clicked by time bin)\n",
    "pdf['income_bin'] = pd.cut(pdf['Area_Income'], bins=20)\n",
    "income_spent_pct = pdf.groupby('income_bin')['Clicked_on_Ad'].mean() * 100\n",
    "income_spent_pct.plot(kind='bar', ax=axes[4])\n",
    "axes[4].set_title('Click Rate by Area Income')\n",
    "axes[4].set_ylabel('% Clicked')\n",
    "axes[4].tick_params(axis='x', rotation=45)\n",
    "\n",
    "plt.tight_layout()"
   ]
  }
 ],
 "metadata": {
  "application/vnd.databricks.v1+notebook": {
   "computePreferences": null,
   "dashboards": [],
   "environmentMetadata": {
    "base_environment": "",
    "environment_version": "2"
   },
   "inputWidgetPreferences": null,
   "language": "python",
   "notebookMetadata": {
    "pythonIndentUnit": 4
   },
   "notebookName": "exploration",
   "widgets": {}
  },
  "language_info": {
   "name": "python"
  }
 },
 "nbformat": 4,
 "nbformat_minor": 0
}
